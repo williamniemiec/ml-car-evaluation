{
  "nbformat": 4,
  "nbformat_minor": 0,
  "metadata": {
    "colab": {
      "name": "ml-car-evaluation.ipynb",
      "provenance": [],
      "collapsed_sections": [],
      "include_colab_link": true
    },
    "kernelspec": {
      "name": "python3",
      "display_name": "Python 3"
    },
    "language_info": {
      "name": "python"
    }
  },
  "cells": [
    {
      "cell_type": "markdown",
      "metadata": {
        "id": "view-in-github",
        "colab_type": "text"
      },
      "source": [
        "<a href=\"https://colab.research.google.com/github/williamniemiec/ml-car-evaluation/blob/master/ml-car-evaluation.ipynb\" target=\"_parent\"><img src=\"https://colab.research.google.com/assets/colab-badge.svg\" alt=\"Open In Colab\"/></a>"
      ]
    },
    {
      "cell_type": "markdown",
      "source": [
        "# Autores\n",
        "- Marcellus Farias\n",
        "- Renan Magagnin\n",
        "- William Niemiec"
      ],
      "metadata": {
        "id": "7vOdSnRyuofQ"
      }
    },
    {
      "cell_type": "markdown",
      "source": [
        "• Escolher um conjunto de dados e uma pergunta de pesquisa associada, com foco em problema\n",
        "de classificação (binária ou multiclasse). Como sugestão, alguns repositórios que podem ser\n",
        "buscados: PMLB2\n",
        ", Kaggle3\n",
        "e UCI ML Repository4\n",
        ". Recomenda-se observar o número de\n",
        "exemplos (i.e., instâncias) por classe, especialmente a classe minoritária, e evitar conjuntos de\n",
        "dados que possuam menos de 10 instâncias por classe."
      ],
      "metadata": {
        "id": "F31MLt_ecYWL"
      }
    },
    {
      "cell_type": "code",
      "source": [
        "import pandas as pd\n",
        "import numpy as np\n",
        "import io\n",
        "import requests\n",
        "\n",
        "# https://archive.ics.uci.edu/ml/datasets/Car+Evaluation\n",
        "# car.data\n",
        "\n",
        "url=\"https://archive.ics.uci.edu/ml/machine-learning-databases/car/car.data\"\n",
        "s=requests.get(url).content\n",
        "data=pd.read_csv(io.StringIO(s.decode('utf-8')))\n",
        "data.columns = ['buying', 'maint', 'doors', 'persons', 'lug_boot', 'safety', 'class']\n",
        "\n",
        "y = data.iloc[:,-1].values\n",
        "X = data[list(data.columns.values)[:-1]]\n",
        "\n",
        "display(data)\n",
        "print('X: ', X)\n",
        "print('y: ', y)"
      ],
      "metadata": {
        "colab": {
          "base_uri": "https://localhost:8080/",
          "height": 684
        },
        "id": "a7IYqTaddIN5",
        "outputId": "2cc5f565-6191-4f9e-e060-9ac27807e0fd"
      },
      "execution_count": null,
      "outputs": [
        {
          "output_type": "display_data",
          "data": {
            "text/plain": [
              "     buying  maint  doors persons lug_boot safety  class\n",
              "0     vhigh  vhigh      2       2    small    med  unacc\n",
              "1     vhigh  vhigh      2       2    small   high  unacc\n",
              "2     vhigh  vhigh      2       2      med    low  unacc\n",
              "3     vhigh  vhigh      2       2      med    med  unacc\n",
              "4     vhigh  vhigh      2       2      med   high  unacc\n",
              "...     ...    ...    ...     ...      ...    ...    ...\n",
              "1722    low    low  5more    more      med    med   good\n",
              "1723    low    low  5more    more      med   high  vgood\n",
              "1724    low    low  5more    more      big    low  unacc\n",
              "1725    low    low  5more    more      big    med   good\n",
              "1726    low    low  5more    more      big   high  vgood\n",
              "\n",
              "[1727 rows x 7 columns]"
            ],
            "text/html": [
              "\n",
              "  <div id=\"df-56fdcb33-8b65-4a28-a2c8-b0818a4ff2a4\">\n",
              "    <div class=\"colab-df-container\">\n",
              "      <div>\n",
              "<style scoped>\n",
              "    .dataframe tbody tr th:only-of-type {\n",
              "        vertical-align: middle;\n",
              "    }\n",
              "\n",
              "    .dataframe tbody tr th {\n",
              "        vertical-align: top;\n",
              "    }\n",
              "\n",
              "    .dataframe thead th {\n",
              "        text-align: right;\n",
              "    }\n",
              "</style>\n",
              "<table border=\"1\" class=\"dataframe\">\n",
              "  <thead>\n",
              "    <tr style=\"text-align: right;\">\n",
              "      <th></th>\n",
              "      <th>buying</th>\n",
              "      <th>maint</th>\n",
              "      <th>doors</th>\n",
              "      <th>persons</th>\n",
              "      <th>lug_boot</th>\n",
              "      <th>safety</th>\n",
              "      <th>class</th>\n",
              "    </tr>\n",
              "  </thead>\n",
              "  <tbody>\n",
              "    <tr>\n",
              "      <th>0</th>\n",
              "      <td>vhigh</td>\n",
              "      <td>vhigh</td>\n",
              "      <td>2</td>\n",
              "      <td>2</td>\n",
              "      <td>small</td>\n",
              "      <td>med</td>\n",
              "      <td>unacc</td>\n",
              "    </tr>\n",
              "    <tr>\n",
              "      <th>1</th>\n",
              "      <td>vhigh</td>\n",
              "      <td>vhigh</td>\n",
              "      <td>2</td>\n",
              "      <td>2</td>\n",
              "      <td>small</td>\n",
              "      <td>high</td>\n",
              "      <td>unacc</td>\n",
              "    </tr>\n",
              "    <tr>\n",
              "      <th>2</th>\n",
              "      <td>vhigh</td>\n",
              "      <td>vhigh</td>\n",
              "      <td>2</td>\n",
              "      <td>2</td>\n",
              "      <td>med</td>\n",
              "      <td>low</td>\n",
              "      <td>unacc</td>\n",
              "    </tr>\n",
              "    <tr>\n",
              "      <th>3</th>\n",
              "      <td>vhigh</td>\n",
              "      <td>vhigh</td>\n",
              "      <td>2</td>\n",
              "      <td>2</td>\n",
              "      <td>med</td>\n",
              "      <td>med</td>\n",
              "      <td>unacc</td>\n",
              "    </tr>\n",
              "    <tr>\n",
              "      <th>4</th>\n",
              "      <td>vhigh</td>\n",
              "      <td>vhigh</td>\n",
              "      <td>2</td>\n",
              "      <td>2</td>\n",
              "      <td>med</td>\n",
              "      <td>high</td>\n",
              "      <td>unacc</td>\n",
              "    </tr>\n",
              "    <tr>\n",
              "      <th>...</th>\n",
              "      <td>...</td>\n",
              "      <td>...</td>\n",
              "      <td>...</td>\n",
              "      <td>...</td>\n",
              "      <td>...</td>\n",
              "      <td>...</td>\n",
              "      <td>...</td>\n",
              "    </tr>\n",
              "    <tr>\n",
              "      <th>1722</th>\n",
              "      <td>low</td>\n",
              "      <td>low</td>\n",
              "      <td>5more</td>\n",
              "      <td>more</td>\n",
              "      <td>med</td>\n",
              "      <td>med</td>\n",
              "      <td>good</td>\n",
              "    </tr>\n",
              "    <tr>\n",
              "      <th>1723</th>\n",
              "      <td>low</td>\n",
              "      <td>low</td>\n",
              "      <td>5more</td>\n",
              "      <td>more</td>\n",
              "      <td>med</td>\n",
              "      <td>high</td>\n",
              "      <td>vgood</td>\n",
              "    </tr>\n",
              "    <tr>\n",
              "      <th>1724</th>\n",
              "      <td>low</td>\n",
              "      <td>low</td>\n",
              "      <td>5more</td>\n",
              "      <td>more</td>\n",
              "      <td>big</td>\n",
              "      <td>low</td>\n",
              "      <td>unacc</td>\n",
              "    </tr>\n",
              "    <tr>\n",
              "      <th>1725</th>\n",
              "      <td>low</td>\n",
              "      <td>low</td>\n",
              "      <td>5more</td>\n",
              "      <td>more</td>\n",
              "      <td>big</td>\n",
              "      <td>med</td>\n",
              "      <td>good</td>\n",
              "    </tr>\n",
              "    <tr>\n",
              "      <th>1726</th>\n",
              "      <td>low</td>\n",
              "      <td>low</td>\n",
              "      <td>5more</td>\n",
              "      <td>more</td>\n",
              "      <td>big</td>\n",
              "      <td>high</td>\n",
              "      <td>vgood</td>\n",
              "    </tr>\n",
              "  </tbody>\n",
              "</table>\n",
              "<p>1727 rows × 7 columns</p>\n",
              "</div>\n",
              "      <button class=\"colab-df-convert\" onclick=\"convertToInteractive('df-56fdcb33-8b65-4a28-a2c8-b0818a4ff2a4')\"\n",
              "              title=\"Convert this dataframe to an interactive table.\"\n",
              "              style=\"display:none;\">\n",
              "        \n",
              "  <svg xmlns=\"http://www.w3.org/2000/svg\" height=\"24px\"viewBox=\"0 0 24 24\"\n",
              "       width=\"24px\">\n",
              "    <path d=\"M0 0h24v24H0V0z\" fill=\"none\"/>\n",
              "    <path d=\"M18.56 5.44l.94 2.06.94-2.06 2.06-.94-2.06-.94-.94-2.06-.94 2.06-2.06.94zm-11 1L8.5 8.5l.94-2.06 2.06-.94-2.06-.94L8.5 2.5l-.94 2.06-2.06.94zm10 10l.94 2.06.94-2.06 2.06-.94-2.06-.94-.94-2.06-.94 2.06-2.06.94z\"/><path d=\"M17.41 7.96l-1.37-1.37c-.4-.4-.92-.59-1.43-.59-.52 0-1.04.2-1.43.59L10.3 9.45l-7.72 7.72c-.78.78-.78 2.05 0 2.83L4 21.41c.39.39.9.59 1.41.59.51 0 1.02-.2 1.41-.59l7.78-7.78 2.81-2.81c.8-.78.8-2.07 0-2.86zM5.41 20L4 18.59l7.72-7.72 1.47 1.35L5.41 20z\"/>\n",
              "  </svg>\n",
              "      </button>\n",
              "      \n",
              "  <style>\n",
              "    .colab-df-container {\n",
              "      display:flex;\n",
              "      flex-wrap:wrap;\n",
              "      gap: 12px;\n",
              "    }\n",
              "\n",
              "    .colab-df-convert {\n",
              "      background-color: #E8F0FE;\n",
              "      border: none;\n",
              "      border-radius: 50%;\n",
              "      cursor: pointer;\n",
              "      display: none;\n",
              "      fill: #1967D2;\n",
              "      height: 32px;\n",
              "      padding: 0 0 0 0;\n",
              "      width: 32px;\n",
              "    }\n",
              "\n",
              "    .colab-df-convert:hover {\n",
              "      background-color: #E2EBFA;\n",
              "      box-shadow: 0px 1px 2px rgba(60, 64, 67, 0.3), 0px 1px 3px 1px rgba(60, 64, 67, 0.15);\n",
              "      fill: #174EA6;\n",
              "    }\n",
              "\n",
              "    [theme=dark] .colab-df-convert {\n",
              "      background-color: #3B4455;\n",
              "      fill: #D2E3FC;\n",
              "    }\n",
              "\n",
              "    [theme=dark] .colab-df-convert:hover {\n",
              "      background-color: #434B5C;\n",
              "      box-shadow: 0px 1px 3px 1px rgba(0, 0, 0, 0.15);\n",
              "      filter: drop-shadow(0px 1px 2px rgba(0, 0, 0, 0.3));\n",
              "      fill: #FFFFFF;\n",
              "    }\n",
              "  </style>\n",
              "\n",
              "      <script>\n",
              "        const buttonEl =\n",
              "          document.querySelector('#df-56fdcb33-8b65-4a28-a2c8-b0818a4ff2a4 button.colab-df-convert');\n",
              "        buttonEl.style.display =\n",
              "          google.colab.kernel.accessAllowed ? 'block' : 'none';\n",
              "\n",
              "        async function convertToInteractive(key) {\n",
              "          const element = document.querySelector('#df-56fdcb33-8b65-4a28-a2c8-b0818a4ff2a4');\n",
              "          const dataTable =\n",
              "            await google.colab.kernel.invokeFunction('convertToInteractive',\n",
              "                                                     [key], {});\n",
              "          if (!dataTable) return;\n",
              "\n",
              "          const docLinkHtml = 'Like what you see? Visit the ' +\n",
              "            '<a target=\"_blank\" href=https://colab.research.google.com/notebooks/data_table.ipynb>data table notebook</a>'\n",
              "            + ' to learn more about interactive tables.';\n",
              "          element.innerHTML = '';\n",
              "          dataTable['output_type'] = 'display_data';\n",
              "          await google.colab.output.renderOutput(dataTable, element);\n",
              "          const docLink = document.createElement('div');\n",
              "          docLink.innerHTML = docLinkHtml;\n",
              "          element.appendChild(docLink);\n",
              "        }\n",
              "      </script>\n",
              "    </div>\n",
              "  </div>\n",
              "  "
            ]
          },
          "metadata": {}
        },
        {
          "output_type": "stream",
          "name": "stdout",
          "text": [
            "X:       buying  maint  doors persons lug_boot safety\n",
            "0     vhigh  vhigh      2       2    small    med\n",
            "1     vhigh  vhigh      2       2    small   high\n",
            "2     vhigh  vhigh      2       2      med    low\n",
            "3     vhigh  vhigh      2       2      med    med\n",
            "4     vhigh  vhigh      2       2      med   high\n",
            "...     ...    ...    ...     ...      ...    ...\n",
            "1722    low    low  5more    more      med    med\n",
            "1723    low    low  5more    more      med   high\n",
            "1724    low    low  5more    more      big    low\n",
            "1725    low    low  5more    more      big    med\n",
            "1726    low    low  5more    more      big   high\n",
            "\n",
            "[1727 rows x 6 columns]\n",
            "y:  ['unacc' 'unacc' 'unacc' ... 'unacc' 'good' 'vgood']\n"
          ]
        }
      ]
    },
    {
      "cell_type": "markdown",
      "source": [
        "Avaliar a necessidade de pré-processar os dados, como por exemplo, normalizar atributos,\n",
        "realizar imputação de valores, remover atributos ou instâncias com muitos valores faltantes,\n",
        "dentre outros. A necessidade pode ser decorrente das características originais dos dados (isto\n",
        "é, conforme disponibilizados pelo repositório) ou por especificidades dos algoritmos de apren\u0002dizado supervisionado escolhidos (ver abaixo)."
      ],
      "metadata": {
        "id": "fWgmmeolcZzz"
      }
    },
    {
      "cell_type": "code",
      "source": [
        "from sklearn.preprocessing import OneHotEncoder\n",
        "from sklearn.compose import ColumnTransformer\n",
        "\n",
        "encoder = ColumnTransformer(transformers=[\n",
        "  ('OneHot', OneHotEncoder(), [0,1,2,3,4,5])                 \n",
        "], remainder='passthrough')\n",
        "encoder_result = encoder.fit_transform(X)\n",
        "\n",
        "X = pd.DataFrame(encoder_result.toarray())"
      ],
      "metadata": {
        "id": "niege-MXdIwy"
      },
      "execution_count": null,
      "outputs": []
    },
    {
      "cell_type": "markdown",
      "source": [
        "• Selecionar ao menos três algoritmos de aprendizado supervisionado cobertos pelo conteúdo\n",
        "programático da disciplina para treinamento de modelos preditivos voltados para a pergunta\n",
        "de interesse. Os grupos podem optar por outros algoritmos que não sejam vistos na disciplina\n",
        "em adição a estes. Os algoritmos de aprendizado não precisam ser implementados pelos\n",
        "grupos: podem ser utilizadas funções prontas disponibilizadas por pacotes ou bibliotecas em\n",
        "linguagens como Python ou R.\n"
      ],
      "metadata": {
        "id": "Puv3-nTXcaql"
      }
    },
    {
      "cell_type": "markdown",
      "source": [
        "Algoritmos selecionados:\n",
        "- K-Nearest Neighbors\n",
        "- Naive Bayes\n",
        "- Árvore de decisão"
      ],
      "metadata": {
        "id": "na_p5PYtt1ZR"
      }
    },
    {
      "cell_type": "markdown",
      "source": [
        "• Realizar uma implementação própria da estratégia de k-fold cross validation, que\n",
        "seja genérica o suficiente para permitir o uso de diferentes valores de k (número de folds). A\n",
        "estratégia deve ser aplicada de forma estratificada, isto é, mantendo-se a proporção original\n",
        "de exemplos por classe em todos os folds, independente do número de classes do problema. É aconselhável que os grupos estudem as funções prontas a serem utilizadas para treinamento\n",
        "dos modelos, a fim de implementarem sua função para validação cruzada de forma compatível\n",
        "com as mesmas (principalmente em relação a estruturas de dados)."
      ],
      "metadata": {
        "id": "cx5TvmL4cbdI"
      }
    },
    {
      "cell_type": "code",
      "source": [
        "# Deve retornar uma lista em que, para cada k, contem um par ordenado de lista de indices de treinamento e teste\n",
        "def k_fold(target, k):\n",
        "    total = len(target)\n",
        "    fold_size = int(total / k)\n",
        "    folds = [] # Tuple list: (start_range, end_range)\n",
        "\n",
        "    # Gera os folds\n",
        "    for i in range(k-1):\n",
        "        folds.append((fold_size*i, fold_size*i + fold_size))\n",
        "\n",
        "    folds.append((fold_size*(k-1), total))\n",
        "\n",
        "    # Generates training and testing folds\n",
        "    train_test_folds = []\n",
        "\n",
        "    for i in range(k):\n",
        "        # Fold de teste será i\n",
        "        start_range = folds[i][0]\n",
        "        end_range = folds[i][1]\n",
        "\n",
        "        test_index = []\n",
        "        for j in range(start_range, end_range):\n",
        "            test_index.append(j)\n",
        "\n",
        "        train_index = []\n",
        "        for j in range(0, start_range):\n",
        "            train_index.append(j)\n",
        "        for j in range(end_range, total):\n",
        "            train_index.append(j)\n",
        "\n",
        "        train_test_folds.append((train_index, test_index))\n",
        "    \n",
        "    return train_test_folds"
      ],
      "metadata": {
        "id": "yeFj8he3dMjz"
      },
      "execution_count": null,
      "outputs": []
    },
    {
      "cell_type": "code",
      "source": [
        "import copy\n",
        "\n",
        "def cross_validation(classifier, attributes, target, k):    \n",
        "    generate_classifier = lambda: copy.copy(classifier)\n",
        "    metricas = {\n",
        "        'acuracia': [],\n",
        "        'precisao': [],\n",
        "        'recall': [],\n",
        "        'f1': []\n",
        "    }\n",
        "\n",
        "    for train_index, test_index in k_fold(target, k):\n",
        "        predicted_y = []\n",
        "        expected_y = []\n",
        "        x_train, x_test = attributes.loc[train_index], attributes.loc[test_index]\n",
        "        y_train, y_test = target[train_index], target[test_index]\n",
        "\n",
        "        classifier = generate_classifier()\n",
        "        classifier.fit(x_train, y_train)\n",
        "\n",
        "        predicted_y.extend(classifier.predict(x_test))\n",
        "        expected_y.extend(y_test)\n",
        "\n",
        "        metricas_k_atual = calcula_metricas(expected_y, predicted_y)\n",
        "        \n",
        "        for metrica in metricas.keys():\n",
        "            metricas[metrica].append(metricas_k_atual[metrica])\n",
        "\n",
        "    return metricas"
      ],
      "metadata": {
        "id": "Icn-devYgBRI"
      },
      "execution_count": null,
      "outputs": []
    },
    {
      "cell_type": "markdown",
      "source": [
        "• Implementar uma função própria para gerar uma matriz de confusão, e a partir dela realizar\n",
        "a quantificação das métricas de acurácia, precisão, recall e F1-measure. As métricas também\n",
        "devem ser calculadas por funções criadas pelos grupos. Para problemas multiclasse, deve\n",
        "ser utilizada a micro-média para sumarizar o desempenho em termos de precisão, recall e\n",
        "F1-measure."
      ],
      "metadata": {
        "id": "HvdGbg64cb_J"
      }
    },
    {
      "cell_type": "code",
      "source": [
        "from enum import Enum\n",
        "\n",
        "class ValoresSaida(Enum):\n",
        "    unacc = 0\n",
        "    acc = 1\n",
        "    good = 2\n",
        "    vgood = 3\n",
        "\n",
        "    def get_enum(string):\n",
        "        if string == 'unacc':\n",
        "            return ValoresSaida.unacc\n",
        "        if string == 'acc':\n",
        "            return ValoresSaida.acc\n",
        "        if string == 'good':\n",
        "            return ValoresSaida.good\n",
        "        if string == 'vgood':\n",
        "            return ValoresSaida.vgood\n",
        "\n",
        "        raise Exception('Error enum!')\n",
        "\n",
        "\n",
        "class MatrizConfusao:\n",
        "    \"\"\"\n",
        "    Implementar uma função própria para gerar uma matriz de confusão,  e a partir\n",
        "    dela realizar a quantificação das métricas de acurácia, precisão, recall e\n",
        "    F1-measure\n",
        "    \"\"\"\n",
        "\n",
        "    def __init__(self, y_esperado_array, y_predito_array):\n",
        "\n",
        "        if len(y_esperado_array) != len(y_predito_array):\n",
        "            raise Exception('Lists are not equal!')\n",
        "\n",
        "        self.A = [[0, 0, 0, 0],\n",
        "                  [0, 0, 0, 0],\n",
        "                  [0, 0, 0, 0],\n",
        "                  [0, 0, 0, 0]]\n",
        "\n",
        "        self.total_itens = 0\n",
        "\n",
        "        for i in range(len(y_esperado_array)):\n",
        "            item_predito = ValoresSaida.get_enum(y_predito_array[i])\n",
        "            item_esperado = ValoresSaida.get_enum(y_esperado_array[i])\n",
        "\n",
        "            self.A[item_esperado.value][item_predito.value] = self.A[item_esperado.value][item_predito.value] + 1\n",
        "            self.total_itens = self.total_itens + 1\n",
        "\n",
        "    def __str__(self):\n",
        "        try:\n",
        "            return \"\\n\" + ('\\n'.join([''.join(['{:4}'.format(item) for item in row])\n",
        "                                      for row in self.A]))\n",
        "        except:\n",
        "            return(\"Falha ao gerar Matriz Confusao\\n\")\n",
        "\n",
        "    def get_verdadeiros_positivos(self):\n",
        "        verdadeiros_positivos = 0\n",
        "        for i in [0, 1, 2, 3]:\n",
        "            verdadeiros_positivos = verdadeiros_positivos + self.A[i][i]\n",
        "\n",
        "        return verdadeiros_positivos\n",
        "\n",
        "    def get_verdadeiros_negativos(self):\n",
        "        verdadeiros_negativos = 0\n",
        "        lista = [0, 1, 2, 3]\n",
        "        for current_class in [0, 1, 2, 3]:\n",
        "            lista.remove(current_class)\n",
        "            for i in lista:\n",
        "                for j in lista:\n",
        "                    verdadeiros_negativos = verdadeiros_negativos + \\\n",
        "                        self.A[i][i]\n",
        "            lista.append(current_class)\n",
        "\n",
        "        return verdadeiros_negativos\n",
        "\n",
        "    def get_falso_positivos(self):\n",
        "        falso_positivos = 0\n",
        "        lista = [0, 1, 2, 3]\n",
        "        for current_class in [0, 1, 2, 3]:\n",
        "            lista.remove(current_class)\n",
        "            for i in lista:\n",
        "                falso_positivos = falso_positivos + \\\n",
        "                    self.A[i][current_class]\n",
        "            lista.append(current_class)\n",
        "\n",
        "        return falso_positivos\n",
        "\n",
        "    def get_falso_negativos(self):\n",
        "        falso_negativos = 0\n",
        "        lista = [0, 1, 2, 3]\n",
        "        for current_class in [0, 1, 2, 3]:\n",
        "            lista.remove(current_class)\n",
        "            for i in lista:\n",
        "                falso_negativos = falso_negativos + \\\n",
        "                    self.A[current_class][i]\n",
        "            lista.append(current_class)\n",
        "\n",
        "        return falso_negativos\n",
        "\n",
        "    def get_acuracia(self):\n",
        "        return (self.get_verdadeiros_positivos()) / self.total_itens\n",
        "\n",
        "    def get_precisao(self):\n",
        "        return self.get_verdadeiros_positivos() / (self.get_verdadeiros_positivos() + self.get_falso_positivos())\n",
        "\n",
        "    def get_recall(self):\n",
        "        return self.get_verdadeiros_positivos() / (self.get_verdadeiros_positivos() + self.get_falso_negativos())\n",
        "\n",
        "    def get_f1(self, B=1):\n",
        "        return (1 + pow(B, 2)) * ((self.get_precisao() * self.get_recall()) / ((pow(B, 2) * self.get_precisao()) + self.get_recall()))\n",
        "\n",
        "def calcula_metricas(y_esperado_array, y_predito_array):\n",
        "    metricas = {\n",
        "        'acuracia': 0.0,\n",
        "        'precisao': 0.0,\n",
        "        'recall': 0.0,\n",
        "        'f1': 0.0,\n",
        "        'matriz_confusao': \"\"\n",
        "    }\n",
        "\n",
        "    matriz_confusao = MatrizConfusao(y_esperado_array, y_predito_array)\n",
        "\n",
        "    metricas['acuracia'] = matriz_confusao.get_acuracia()\n",
        "    metricas['precisao'] = matriz_confusao.get_precisao()\n",
        "    metricas['recall'] = matriz_confusao.get_recall()\n",
        "    metricas['f1'] = matriz_confusao.get_f1()\n",
        "    metricas['matriz_confusao'] = str(matriz_confusao)\n",
        "    \n",
        "    return metricas\n"
      ],
      "metadata": {
        "id": "Xxvc1CqldNLr"
      },
      "execution_count": null,
      "outputs": []
    },
    {
      "cell_type": "markdown",
      "source": [
        "• Aplicar a implementação da estratégia de k-fold cross validation e da matriz de confusão e\n",
        "métricas de desempenho ao problema de classificação selecionado, avaliando de forma com\u0002parativa o desempenho dos algoritmos de aprendizado supervisionado escolhidos. Os grupos\n",
        "deverão reportar, no mínimo, desempenho médio e desvio padrão obtido através do processo\n",
        "de validação cruzada, discutindo os resultados de forma comparativa entre os algoritmos de\n",
        "aprendizado usados. O uso de gráficos como boxplot é desejável e será valorizado na avaliação\n",
        "do trabalho."
      ],
      "metadata": {
        "id": "ZEXRI-LdcyhK"
      }
    },
    {
      "cell_type": "code",
      "execution_count": null,
      "metadata": {
        "id": "CTwa5yeucRA5"
      },
      "outputs": [],
      "source": [
        "from sklearn.tree import DecisionTreeClassifier\n",
        "from sklearn.neighbors import NearestCentroid\n",
        "from sklearn.naive_bayes import GaussianNB\n",
        "\n",
        "algorithmsByName = {\n",
        "    'Naive Bayes': GaussianNB(),\n",
        "    'KNN': NearestCentroid(),\n",
        "    'Decision Tree': DecisionTreeClassifier(),\n",
        "}"
      ]
    },
    {
      "cell_type": "code",
      "source": [
        "import matplotlib.pyplot as plt\n",
        "from statistics import mean, stdev\n",
        "\n",
        "metrics = ['acuracia', 'precisao', 'recall', 'f1']\n",
        "k_min, k_max  = 5, 30\n",
        "k_range = range(k_min, k_max+1)\n",
        "\n",
        "algorithms = list(algorithmsByName.keys())\n",
        "colors = ['r-', 'g-', 'b-']\n",
        "\n",
        "def plot_metric(metric_name):\n",
        "  fig = plt.figure(figsize =(10, 7))\n",
        "  plt.xlabel(\"K\")\n",
        "  plt.ylabel(\"Average\")\n",
        "  plt.xlim([k_min, k_max])\n",
        "  fig.suptitle(metric.capitalize(), fontsize=16)\n",
        "\n",
        "  for algorithm, color in zip(algorithms, colors):\n",
        "      averages = [0] * (k_min)\n",
        "      for k in k_range:\n",
        "        crossValidationResults = cross_validation(algorithmsByName[algorithm], X, y, k)\n",
        "        accuracies = crossValidationResults[metric_name]\n",
        "        average = mean(accuracies)\n",
        "        averages.append(average)\n",
        "      plt.plot(averages, color, label=algorithm)\n",
        "\n",
        "  plt.legend(loc='lower right')\n",
        "  \n",
        "\n",
        "for metric in metrics:\n",
        "  plot_metric(metric)\n"
      ],
      "metadata": {
        "colab": {
          "base_uri": "https://localhost:8080/",
          "height": 1000
        },
        "id": "A8cbkzSGr63V",
        "outputId": "19d543b5-4c4a-44db-f9d9-14d69cdf785e"
      },
      "execution_count": null,
      "outputs": [
        {
          "output_type": "display_data",
          "data": {
            "text/plain": [
              "<Figure size 720x504 with 1 Axes>"
            ],
            "image/png": "[encoded data removed]"
          },
          "metadata": {
            "needs_background": "light"
          }
        },
        {
          "output_type": "display_data",
          "data": {
            "text/plain": [
              "<Figure size 720x504 with 1 Axes>"
            ],
            "image/png": "[encoded data removed]"
          },
          "metadata": {
            "needs_background": "light"
          }
        },
        {
          "output_type": "display_data",
          "data": {
            "text/plain": [
              "<Figure size 720x504 with 1 Axes>"
            ],
            "image/png": "[encoded data removed]"
          },
          "metadata": {
            "needs_background": "light"
          }
        },
        {
          "output_type": "display_data",
          "data": {
            "text/plain": [
              "<Figure size 720x504 with 1 Axes>"
            ],
            "image/png": "[encoded data removed]"
          },
          "metadata": {
            "needs_background": "light"
          }
        }
      ]
    },
    {
      "cell_type": "code",
      "source": [
        "k = 28 # Melhor k é 28 conforme os gráficos acima\n",
        "crossValidationResults = {name: cross_validation(algorithm, X, y, k) for name, algorithm in algorithmsByName.items()}\n",
        "\n",
        "for metric in metrics:\n",
        "    fig = plt.figure(figsize =(10, 7))\n",
        "    fig.suptitle(metric.capitalize(), fontsize=16)\n",
        "    \n",
        "    values = [crossValidationResults[algorithm][metric] for algorithm in crossValidationResults]\n",
        "    plt.boxplot(values)\n",
        "\n",
        "    algorithms = crossValidationResults.keys()\n",
        "    plt.xticks(range(1, len(algorithms) + 1), crossValidationResults.keys())\n",
        "\n",
        "plt.show()"
      ],
      "metadata": {
        "id": "myw-KdCjxsvO",
        "colab": {
          "base_uri": "https://localhost:8080/",
          "height": 1000
        },
        "outputId": "2ec65298-e413-4050-8519-c2eef6b08e0b"
      },
      "execution_count": null,
      "outputs": [
        {
          "output_type": "display_data",
          "data": {
            "text/plain": [
              "<Figure size 720x504 with 1 Axes>"
            ],
            "image/png": "[encoded data removed]"
          },
          "metadata": {
            "needs_background": "light"
          }
        },
        {
          "output_type": "display_data",
          "data": {
            "text/plain": [
              "<Figure size 720x504 with 1 Axes>"
            ],
            "image/png": "[encoded data removed]"
          },
          "metadata": {
            "needs_background": "light"
          }
        },
        {
          "output_type": "display_data",
          "data": {
            "text/plain": [
              "<Figure size 720x504 with 1 Axes>"
            ],
            "image/png": "[encoded data removed]"
          },
          "metadata": {
            "needs_background": "light"
          }
        },
        {
          "output_type": "display_data",
          "data": {
            "text/plain": [
              "<Figure size 720x504 with 1 Axes>"
            ],
            "image/png": "[encoded data removed]"
          },
          "metadata": {
            "needs_background": "light"
          }
        }
      ]
    },
    {
      "cell_type": "code",
      "source": [
        "for metric in metrics:\n",
        "    print('-----< ' + metric + ' >-----')\n",
        "    for algorithm in crossValidationResults:\n",
        "        print('# ' + algorithm)\n",
        "        print('MEDIA:        ', mean(crossValidationResults[algorithm][metric]))\n",
        "        print('DESVIO PADRÃO:', stdev(crossValidationResults[algorithm][metric]))\n",
        "        print()"
      ],
      "metadata": {
        "id": "9JLIgCRutwF9",
        "colab": {
          "base_uri": "https://localhost:8080/"
        },
        "outputId": "d29edb33-2755-4273-80cf-7b8a09605012"
      },
      "execution_count": null,
      "outputs": [
        {
          "output_type": "stream",
          "name": "stdout",
          "text": [
            "-----< acuracia >-----\n",
            "# Naive Bayes\n",
            "MEDIA:         0.801463700234192\n",
            "DESVIO PADRÃO: 0.13331044272266943\n",
            "\n",
            "# KNN\n",
            "MEDIA:         0.692469262295082\n",
            "DESVIO PADRÃO: 0.11693425991722886\n",
            "\n",
            "# Decision Tree\n",
            "MEDIA:         0.9560889929742389\n",
            "DESVIO PADRÃO: 0.044629248966454406\n",
            "\n",
            "-----< precisao >-----\n",
            "# Naive Bayes\n",
            "MEDIA:         0.801463700234192\n",
            "DESVIO PADRÃO: 0.13331044272266943\n",
            "\n",
            "# KNN\n",
            "MEDIA:         0.692469262295082\n",
            "DESVIO PADRÃO: 0.11693425991722886\n",
            "\n",
            "# Decision Tree\n",
            "MEDIA:         0.9560889929742389\n",
            "DESVIO PADRÃO: 0.044629248966454406\n",
            "\n",
            "-----< recall >-----\n",
            "# Naive Bayes\n",
            "MEDIA:         0.801463700234192\n",
            "DESVIO PADRÃO: 0.13331044272266943\n",
            "\n",
            "# KNN\n",
            "MEDIA:         0.692469262295082\n",
            "DESVIO PADRÃO: 0.11693425991722886\n",
            "\n",
            "# Decision Tree\n",
            "MEDIA:         0.9560889929742389\n",
            "DESVIO PADRÃO: 0.044629248966454406\n",
            "\n",
            "-----< f1 >-----\n",
            "# Naive Bayes\n",
            "MEDIA:         0.801463700234192\n",
            "DESVIO PADRÃO: 0.13331044272266943\n",
            "\n",
            "# KNN\n",
            "MEDIA:         0.692469262295082\n",
            "DESVIO PADRÃO: 0.11693425991722886\n",
            "\n",
            "# Decision Tree\n",
            "MEDIA:         0.9560889929742389\n",
            "DESVIO PADRÃO: 0.0446292489664544\n",
            "\n"
          ]
        }
      ]
    }
  ]
}